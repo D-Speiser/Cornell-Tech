{
 "cells": [
  {
   "cell_type": "code",
   "execution_count": 15,
   "metadata": {
    "collapsed": true
   },
   "outputs": [],
   "source": [
    "import numpy as np\n",
    "import pandas as pd\n",
    "import sklearn as sk\n",
    "from sklearn import linear_model"
   ]
  },
  {
   "cell_type": "code",
   "execution_count": 16,
   "metadata": {
    "collapsed": true
   },
   "outputs": [],
   "source": [
    "# File paths\n",
    "TRAIN_PATH = \"data/train.csv\"\n",
    "TEST_PATH = \"data/test.csv\""
   ]
  },
  {
   "cell_type": "code",
   "execution_count": 17,
   "metadata": {
    "collapsed": false
   },
   "outputs": [],
   "source": [
    "# Read in the datasets from the respective CSV files\n",
    "train_data = pd.read_csv(TRAIN_PATH)\n",
    "test_data = pd.read_csv(TEST_PATH)"
   ]
  },
  {
   "cell_type": "code",
   "execution_count": 18,
   "metadata": {
    "collapsed": false
   },
   "outputs": [],
   "source": [
    "# Replace the categorical classes with binary\n",
    "train = train_data.replace({'Sex': {'male': 0, 'female': 1}})\n",
    "test = test_data.replace({'Sex': {'male': 0, 'female': 1}})"
   ]
  },
  {
   "cell_type": "code",
   "execution_count": 19,
   "metadata": {
    "collapsed": true
   },
   "outputs": [],
   "source": [
    "def replace_na (data_set):\n",
    "    # Find mean male age\n",
    "    male_age = data_set.loc[data_set['Sex'] == 0]['Age'].dropna()\n",
    "    male_mean_age = np.mean(male_age)\n",
    "    print \"Mean male age: \", male_mean_age\n",
    "\n",
    "    # Find mean female age\n",
    "    female_age = data_set.loc[data_set['Sex'] == 1]['Age'].dropna()\n",
    "    female_mean_age = np.mean(female_age)\n",
    "    print \"Mean female age: \", female_mean_age\n",
    "\n",
    "    # Replace empty cells with appropriate mean age based on sex\n",
    "    data_set[(data_set['Sex']==0) & (pd.isnull(data_set['Age']))] = data_set[(data_set['Sex']==0) & (pd.isnull(data_set['Age']))].fillna(male_mean_age)\n",
    "    data_set[(data_set['Sex']==1) & (pd.isnull(data_set['Age']))] = data_set[(data_set['Sex']==1) & (pd.isnull(data_set['Age']))].fillna(female_mean_age)\n",
    "    return"
   ]
  },
  {
   "cell_type": "code",
   "execution_count": 20,
   "metadata": {
    "collapsed": false,
    "scrolled": true
   },
   "outputs": [
    {
     "name": "stdout",
     "output_type": "stream",
     "text": [
      "Mean male age:  30.7266445916\n",
      "Mean female age:  27.9157088123\n",
      "Mean male age:  30.2727317073\n",
      "Mean female age:  30.2723622047\n"
     ]
    }
   ],
   "source": [
    "replace_na(train)\n",
    "replace_na(test)"
   ]
  },
  {
   "cell_type": "code",
   "execution_count": 24,
   "metadata": {
    "collapsed": false
   },
   "outputs": [],
   "source": [
    "# Choose features to include\n",
    "x_train = train[['Pclass', 'Age', 'Sex', 'SibSp', 'Parch']].values\n",
    "y_train = train['Survived'].values\n",
    "\n",
    "x_test = test[['Pclass', 'Age', 'Sex', 'SibSp', 'Parch']].values"
   ]
  },
  {
   "cell_type": "code",
   "execution_count": 25,
   "metadata": {
    "collapsed": false
   },
   "outputs": [
    {
     "name": "stdout",
     "output_type": "stream",
     "text": [
      "0.787878787879\n"
     ]
    }
   ],
   "source": [
    "# Fit\n",
    "lr = linear_model.LogisticRegression(random_state=1).fit(x_train, y_train)\n",
    "\n",
    "# Cross validation, k=3\n",
    "scores = sk.cross_validation.cross_val_score(lr, x_train, y_train, cv=3)\n",
    "print scores.mean()"
   ]
  },
  {
   "cell_type": "code",
   "execution_count": 26,
   "metadata": {
    "collapsed": false
   },
   "outputs": [
    {
     "name": "stdout",
     "output_type": "stream",
     "text": [
      "     PassengerId  Survived\n",
      "0            892         0\n",
      "1            893         0\n",
      "2            894         0\n",
      "3            895         0\n",
      "4            896         1\n",
      "5            897         0\n",
      "6            898         1\n",
      "7            899         0\n",
      "8            900         1\n",
      "9            901         0\n",
      "10           902         0\n",
      "11           903         0\n",
      "12           904         1\n",
      "13           905         0\n",
      "14           906         1\n",
      "15           907         1\n",
      "16           908         0\n",
      "17           909         0\n",
      "18           910         1\n",
      "19           911         0\n",
      "20           912         0\n",
      "21           913         0\n",
      "22           914         1\n",
      "23           915         1\n",
      "24           916         1\n",
      "25           917         0\n",
      "26           918         1\n",
      "27           919         0\n",
      "28           920         0\n",
      "29           921         0\n",
      "..           ...       ...\n",
      "388         1280         0\n",
      "389         1281         0\n",
      "390         1282         1\n",
      "391         1283         1\n",
      "392         1284         0\n",
      "393         1285         0\n",
      "394         1286         0\n",
      "395         1287         1\n",
      "396         1288         0\n",
      "397         1289         1\n",
      "398         1290         0\n",
      "399         1291         0\n",
      "400         1292         1\n",
      "401         1293         0\n",
      "402         1294         1\n",
      "403         1295         1\n",
      "404         1296         0\n",
      "405         1297         0\n",
      "406         1298         0\n",
      "407         1299         0\n",
      "408         1300         1\n",
      "409         1301         1\n",
      "410         1302         1\n",
      "411         1303         1\n",
      "412         1304         1\n",
      "413         1305         0\n",
      "414         1306         1\n",
      "415         1307         0\n",
      "416         1308         0\n",
      "417         1309         0\n",
      "\n",
      "[418 rows x 2 columns]\n"
     ]
    }
   ],
   "source": [
    "# Predict and submit!\n",
    "predicted_values = lr.predict(x_test)\n",
    "p_id = test_data[['PassengerId']].values.flatten()\n",
    "\n",
    "submission = pd.DataFrame({'PassengerId': p_id, 'Survived': predicted_values})\n",
    "submission.to_csv('titanic_submission.csv', index=False)\n",
    "print submission"
   ]
  },
  {
   "cell_type": "code",
   "execution_count": null,
   "metadata": {
    "collapsed": true
   },
   "outputs": [],
   "source": []
  }
 ],
 "metadata": {
  "kernelspec": {
   "display_name": "Python 2",
   "language": "python",
   "name": "python2"
  },
  "language_info": {
   "codemirror_mode": {
    "name": "ipython",
    "version": 2
   },
   "file_extension": ".py",
   "mimetype": "text/x-python",
   "name": "python",
   "nbconvert_exporter": "python",
   "pygments_lexer": "ipython2",
   "version": "2.7.10"
  }
 },
 "nbformat": 4,
 "nbformat_minor": 0
}
