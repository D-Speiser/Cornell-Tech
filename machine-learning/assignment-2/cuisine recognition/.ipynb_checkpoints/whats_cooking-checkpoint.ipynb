{
 "cells": [
  {
   "cell_type": "code",
   "execution_count": 1,
   "metadata": {
    "collapsed": false
   },
   "outputs": [],
   "source": [
    "import numpy as np\n",
    "import pandas as pd\n",
    "import pprint as pp\n",
    "import itertools as it\n",
    "from sklearn import cross_validation as cv, naive_bayes as nb, linear_model as lm"
   ]
  },
  {
   "cell_type": "code",
   "execution_count": 2,
   "metadata": {
    "collapsed": false
   },
   "outputs": [],
   "source": [
    "train_data = pd.read_json('data/train.json') # parse training set (given in .json format)\n",
    "test_data = pd.read_json('data/test.json')   # parse testing set (given in .json format)"
   ]
  },
  {
   "cell_type": "code",
   "execution_count": 3,
   "metadata": {
    "collapsed": false
   },
   "outputs": [
    {
     "name": "stdout",
     "output_type": "stream",
     "text": [
      "Number of samples in the training data set: 39774\n",
      "Number of unique cuisine catagories: 20\n",
      "Number of unique ingredients in the training set: 6714\n"
     ]
    }
   ],
   "source": [
    "# B\n",
    "ingredients_train = np.array(train_data['ingredients']) # save training ingredients\n",
    "ingredients_test = np.array(test_data['ingredients'])   # save testing ingredients\n",
    "cuisines_train = np.array(train_data['cuisine'])        # save training cuisines\n",
    "# find unique cuisines and ingredients\n",
    "unique_cuisine_train = np.unique(cuisines_train) # finds unique elements. can also be done using sets\n",
    "# uses itertools chain method to append all sub-lists from a list of lists, and then find unique elements\n",
    "unique_ingredients_train = np.unique(list(it.chain.from_iterable(ingredients_train)))\n",
    "\n",
    "print \"Number of samples in the training data set: {0}\".format(len(train_data))\n",
    "print \"Number of unique cuisine catagories: {0}\".format(len(unique_cuisine_train))\n",
    "print \"Number of unique ingredients in the training set: {0}\".format(len(unique_ingredients_train))"
   ]
  },
  {
   "cell_type": "code",
   "execution_count": 4,
   "metadata": {
    "collapsed": false
   },
   "outputs": [],
   "source": [
    "# C\n",
    "def binary_feature_vectorization(unique_ingredients, ingredient_lists):\n",
    "    feature_vectors = [] # list to contain all feature vectors\n",
    "    for ingredients in ingredient_lists:\n",
    "        # create vector of length 'd', with each element instantiated to '0'\n",
    "        bin_feat_vect= np.zeros(len(unique_ingredients))\n",
    "        for ingredient in ingredients: # for each ingredient\n",
    "            if ingredient in unique_ingredients: # if it is in the recipe\n",
    "                # set this ingredient to '1', indicating its presence in the recipe\n",
    "                bin_feat_vect[np.where(unique_ingredients == ingredient)[0][0]] = 1\n",
    "        feature_vectors.append(bin_feat_vect) # add to list\n",
    "    return np.array(feature_vectors)\n",
    "\n",
    "feature_vectors_train = binary_feature_vectorization(unique_ingredients_train, ingredients_train)\n",
    "feature_vectors_test = binary_feature_vectorization(unique_ingredients_train, ingredients_test)"
   ]
  },
  {
   "cell_type": "code",
   "execution_count": 5,
   "metadata": {
    "collapsed": false
   },
   "outputs": [
    {
     "name": "stdout",
     "output_type": "stream",
     "text": [
      "Number of folds: 3\n",
      "Mean accuracy Gaussian:  0.38215893891\n",
      "Mean accuracy Bernoulli:  0.683587657646\n",
      "Mean accuracy Linear:  0.775758670409\n"
     ]
    }
   ],
   "source": [
    "# D, E, F\n",
    "# use 3 different classifiers to fit the data, and perform 3 fold cross validation on each\n",
    "gnb = nb.GaussianNB().fit(feature_vectors_train, cuisines_train) \n",
    "bnb = nb.BernoulliNB().fit(feature_vectors_train, cuisines_train)\n",
    "lr = lm.LogisticRegression().fit(feature_vectors_train, cuisines_train)\n",
    "# cross validation, k=3\n",
    "scores_gauss = cv.cross_val_score(gnb, feature_vectors_train, cuisines_train, cv=3)\n",
    "scores_bernoulli = cv.cross_val_score(bnb, feature_vectors_train, cuisines_train, cv=3)\n",
    "scores_linear = cv.cross_val_score(lr, feature_vectors_train, cuisines_train, cv=3)\n",
    "\n",
    "print \"Number of folds: 3\"\n",
    "print \"Mean accuracy Gaussian: \", scores_gauss.mean()\n",
    "print \"Mean accuracy Bernoulli: \", scores_bernoulli.mean()\n",
    "print \"Mean accuracy Linear: \", scores_linear.mean()"
   ]
  },
  {
   "cell_type": "code",
   "execution_count": 6,
   "metadata": {
    "collapsed": false
   },
   "outputs": [
    {
     "name": "stdout",
     "output_type": "stream",
     "text": [
      "         id       cuisine\n",
      "0     18009       british\n",
      "1     28583   southern_us\n",
      "2     41580       italian\n",
      "3     29752  cajun_creole\n",
      "4     35687       italian\n",
      "5     38527   southern_us\n",
      "6     19666       spanish\n",
      "7     41217       chinese\n",
      "8     28753       mexican\n",
      "9     22659       british\n",
      "10    21749       italian\n",
      "11    44967         greek\n",
      "12    42969        indian\n",
      "13    44883       italian\n",
      "14    20827   southern_us\n",
      "15    23196        french\n",
      "16    35387       mexican\n",
      "17    33780   southern_us\n",
      "18    19001       mexican\n",
      "19    16526   southern_us\n",
      "20    42455      japanese\n",
      "21    47453        indian\n",
      "22    42478       spanish\n",
      "23    11885    vietnamese\n",
      "24    16585       italian\n",
      "25    29639   southern_us\n",
      "26    26245    vietnamese\n",
      "27    38516        korean\n",
      "28    47520       italian\n",
      "29    26212       italian\n",
      "...     ...           ...\n",
      "9914  49157    vietnamese\n",
      "9915  40847       italian\n",
      "9916  14084        french\n",
      "9917   6802       italian\n",
      "9918  22381   southern_us\n",
      "9919  21016     brazilian\n",
      "9920  29024       italian\n",
      "9921   4478          thai\n",
      "9922  36711        indian\n",
      "9923   8300       italian\n",
      "9924  47035   southern_us\n",
      "9925  15596       british\n",
      "9926  19902       british\n",
      "9927  31242   southern_us\n",
      "9928  21117        indian\n",
      "9929  15234  cajun_creole\n",
      "9930  24993          thai\n",
      "9931  31007       spanish\n",
      "9932  31687       mexican\n",
      "9933  13657       mexican\n",
      "9934  36612   southern_us\n",
      "9935  14008       chinese\n",
      "9936  32124        french\n",
      "9937  43570          thai\n",
      "9938  14059        indian\n",
      "9939  30246        french\n",
      "9940  36028   southern_us\n",
      "9941  22339       italian\n",
      "9942  42525   southern_us\n",
      "9943   1443       mexican\n",
      "\n",
      "[9944 rows x 2 columns]\n"
     ]
    }
   ],
   "source": [
    "# G\n",
    "# predict test cuisine labels using fitted training data\n",
    "test_predict = lr.predict(feature_vectors_test)\n",
    "# store predictions in a dataframe, and save it to a csv file in the required column format\n",
    "submission = pd.DataFrame({'id': test_data['id'], 'cuisine': test_predict})[['id', 'cuisine']]\n",
    "submission.to_csv('cuisine_submission.csv', index=False)\n",
    "print submission"
   ]
  },
  {
   "cell_type": "code",
   "execution_count": null,
   "metadata": {
    "collapsed": true
   },
   "outputs": [],
   "source": []
  }
 ],
 "metadata": {
  "kernelspec": {
   "display_name": "Python 2",
   "language": "python",
   "name": "python2"
  },
  "language_info": {
   "codemirror_mode": {
    "name": "ipython",
    "version": 2
   },
   "file_extension": ".py",
   "mimetype": "text/x-python",
   "name": "python",
   "nbconvert_exporter": "python",
   "pygments_lexer": "ipython2",
   "version": "2.7.10"
  }
 },
 "nbformat": 4,
 "nbformat_minor": 0
}
